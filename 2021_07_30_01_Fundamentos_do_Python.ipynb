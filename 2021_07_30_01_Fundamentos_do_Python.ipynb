{
  "nbformat": 4,
  "nbformat_minor": 0,
  "metadata": {
    "colab": {
      "name": "2021-07-30 - 01 - Fundamentos do Python.ipynb",
      "provenance": [],
      "collapsed_sections": [],
      "include_colab_link": true
    },
    "kernelspec": {
      "name": "python3",
      "display_name": "Python 3"
    }
  },
  "cells": [
    {
      "cell_type": "markdown",
      "metadata": {
        "id": "view-in-github",
        "colab_type": "text"
      },
      "source": [
        "<a href=\"https://colab.research.google.com/github/vinadoti/vinadoti/blob/main/2021_07_30_01_Fundamentos_do_Python.ipynb\" target=\"_parent\"><img src=\"https://colab.research.google.com/assets/colab-badge.svg\" alt=\"Open In Colab\"/></a>"
      ]
    },
    {
      "cell_type": "markdown",
      "metadata": {
        "id": "IWT9kBSMTj2O"
      },
      "source": [
        "![image.png](data:image/png;base64,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)\n",
        "#1 - Fundamentos do Python\n",
        "## Linguagem de Programação III (Prof. Dr. Henrique Dezani)\n",
        "Curso de Tecnologia em Informática para Negócios da Faculdade de Tecnologia de São José do Rio Preto"
      ]
    },
    {
      "cell_type": "code",
      "metadata": {
        "id": "4EDotJMmNNHo",
        "colab": {
          "base_uri": "https://localhost:8080/"
        },
        "outputId": "3633ef65-aad4-40c1-d536-2fb074da5c8b"
      },
      "source": [
        "!python --version"
      ],
      "execution_count": null,
      "outputs": [
        {
          "output_type": "stream",
          "text": [
            "Python 3.7.11\n"
          ],
          "name": "stdout"
        }
      ]
    },
    {
      "cell_type": "markdown",
      "metadata": {
        "id": "Bu_cUAtKULLJ"
      },
      "source": [
        "## 1.1. Variáveis"
      ]
    },
    {
      "cell_type": "markdown",
      "metadata": {
        "id": "KMZkvKpJViD_"
      },
      "source": [
        "A programação de computadores se baseia basicamente na manipulação de números e textos que, no Python, são chamados de números e strings.\n",
        "\n",
        "Python 3 possui três representações de números embutidas, quais sejam: `int`, `float` e `complex`. Vejamos como podemos declarar variáveis com estes tipos de dados."
      ]
    },
    {
      "cell_type": "code",
      "metadata": {
        "id": "FHXapw9cfAXD"
      },
      "source": [
        "# # Na linguagem C\n",
        "# int idade;\n",
        "# idade = 38;\n",
        "\n",
        "# int idade = 38;\n",
        "\n",
        "# idade = 39;\n",
        "# idade = 'abc';"
      ],
      "execution_count": null,
      "outputs": []
    },
    {
      "cell_type": "code",
      "metadata": {
        "id": "SvZuutlgU1Qh",
        "colab": {
          "base_uri": "https://localhost:8080/"
        },
        "outputId": "f906ee46-c054-420e-a866-73a9fa78162e"
      },
      "source": [
        "idade = 38    # declara a variável 'idade' com o valor inteiro (int)\n",
        "print(idade)  # função built-in reponsável por escrever na tela."
      ],
      "execution_count": null,
      "outputs": [
        {
          "output_type": "stream",
          "text": [
            "38\n"
          ],
          "name": "stdout"
        }
      ]
    },
    {
      "cell_type": "code",
      "metadata": {
        "colab": {
          "base_uri": "https://localhost:8080/"
        },
        "id": "atPgIHRZft5B",
        "outputId": "bef740fc-0f92-4440-f71a-eeb5fc728890"
      },
      "source": [
        "type(idade)"
      ],
      "execution_count": null,
      "outputs": [
        {
          "output_type": "execute_result",
          "data": {
            "text/plain": [
              "int"
            ]
          },
          "metadata": {
            "tags": []
          },
          "execution_count": 2
        }
      ]
    },
    {
      "cell_type": "code",
      "metadata": {
        "id": "F4S8TtL-WvER",
        "colab": {
          "base_uri": "https://localhost:8080/"
        },
        "outputId": "5e12e6ef-d10d-4a15-fcac-add5852d3ca3"
      },
      "source": [
        "salario = 752.89 # declara a variável 'salário' com o valor de ponto flutuate (float)\n",
        "print(salario)"
      ],
      "execution_count": null,
      "outputs": [
        {
          "output_type": "stream",
          "text": [
            "752.89\n"
          ],
          "name": "stdout"
        }
      ]
    },
    {
      "cell_type": "code",
      "metadata": {
        "colab": {
          "base_uri": "https://localhost:8080/"
        },
        "id": "jRmhhboKgG2j",
        "outputId": "5695e4af-250b-4048-f152-0105424f6667"
      },
      "source": [
        "type(salario)"
      ],
      "execution_count": null,
      "outputs": [
        {
          "output_type": "execute_result",
          "data": {
            "text/plain": [
              "float"
            ]
          },
          "metadata": {
            "tags": []
          },
          "execution_count": 4
        }
      ]
    },
    {
      "cell_type": "markdown",
      "metadata": {
        "id": "jD0Cmesubu2N"
      },
      "source": [
        "**Exercício 1**: Armazene em variáveis os valores de seu ano de ingresso na Fatec a sua média final na disciplina de Estatística."
      ]
    },
    {
      "cell_type": "code",
      "metadata": {
        "id": "rsxxqyS7W-wP",
        "colab": {
          "base_uri": "https://localhost:8080/"
        },
        "outputId": "7ff7326b-4557-47b0-cc81-7a32f9a626ec"
      },
      "source": [
        "# digite seu código aqui.\n",
        "ano_ingresso=2021\n",
        "media_final=9.5\n",
        "\n",
        "media_final = 'nove e meio'\n",
        "\n",
        "print(ano_ingresso)\n",
        "print(media_final)"
      ],
      "execution_count": null,
      "outputs": [
        {
          "output_type": "stream",
          "text": [
            "2021\n",
            "nove e meio\n"
          ],
          "name": "stdout"
        }
      ]
    },
    {
      "cell_type": "markdown",
      "metadata": {
        "id": "pD3riW0mYG9p"
      },
      "source": [
        "## 1.2. Built-in functions\n",
        "\n",
        "O interpretador Python possui várias funções que estão sempre disponíveis para uso. Essas funções são chamadas de **funções internas (built-in functions)**. Por exemplo, a função `print()` imprime o objeto fornecido no dispositivo de saída padrão (tela). No Python 3.6 existem 68 funções internas. "
      ]
    },
    {
      "cell_type": "code",
      "metadata": {
        "colab": {
          "base_uri": "https://localhost:8080/"
        },
        "id": "3Sz9VfqxipLQ",
        "outputId": "5b8bc88b-81b2-41e1-fa04-0a3aa6857965"
      },
      "source": [
        "# import random # include<stdio.h>\n",
        "# print(random.randint(0, 10))"
      ],
      "execution_count": null,
      "outputs": [
        {
          "output_type": "stream",
          "text": [
            "1\n"
          ],
          "name": "stdout"
        }
      ]
    },
    {
      "cell_type": "markdown",
      "metadata": {
        "id": "xq0fuMEcZ3yt"
      },
      "source": [
        "Vamos supor que seja necessário descobrir os tipos de dados das variáveis declaradas anteriormente. Para tanto, utilizamos a função built-in `type(obj)` , com apenas um parâmetro, a qual retorna o tipo de um objeto."
      ]
    },
    {
      "cell_type": "code",
      "metadata": {
        "id": "FgaU6jOoYXwk",
        "colab": {
          "base_uri": "https://localhost:8080/"
        },
        "outputId": "68e6686c-678c-401c-b6e0-e43546b65f78"
      },
      "source": [
        "type(idade)"
      ],
      "execution_count": null,
      "outputs": [
        {
          "output_type": "execute_result",
          "data": {
            "text/plain": [
              "int"
            ]
          },
          "metadata": {
            "tags": []
          },
          "execution_count": 15
        }
      ]
    },
    {
      "cell_type": "code",
      "metadata": {
        "id": "yH6hTdRkaJ3u",
        "colab": {
          "base_uri": "https://localhost:8080/"
        },
        "outputId": "e00107d8-71a6-4dfa-9dda-050af9faca6d"
      },
      "source": [
        "type(salario)"
      ],
      "execution_count": null,
      "outputs": [
        {
          "output_type": "execute_result",
          "data": {
            "text/plain": [
              "float"
            ]
          },
          "metadata": {
            "tags": []
          },
          "execution_count": 16
        }
      ]
    },
    {
      "cell_type": "markdown",
      "metadata": {
        "id": "JXV1xi3WcHMI"
      },
      "source": [
        "**Exercício 2**: Mostre os tipos de dados das variáveis que você criou no Exercício 1."
      ]
    },
    {
      "cell_type": "code",
      "metadata": {
        "id": "sQ7JagSJaNlY",
        "colab": {
          "base_uri": "https://localhost:8080/"
        },
        "outputId": "adff328e-b686-425a-e944-ce61eda58dcd"
      },
      "source": [
        "# digite seu código aqui.\n",
        "type(media_final)"
      ],
      "execution_count": null,
      "outputs": [
        {
          "output_type": "execute_result",
          "data": {
            "text/plain": [
              "str"
            ]
          },
          "metadata": {
            "tags": []
          },
          "execution_count": 18
        }
      ]
    },
    {
      "cell_type": "markdown",
      "metadata": {
        "id": "K4KCya5jePyF"
      },
      "source": [
        "Outras **funções buit-in** permitem realizar a **conversão dos tipos de dados** apresentados anteriormente. Veja os exemplos:"
      ]
    },
    {
      "cell_type": "code",
      "metadata": {
        "id": "UN5sgrYVedMN",
        "colab": {
          "base_uri": "https://localhost:8080/"
        },
        "outputId": "28bfb5a3-ea35-47cf-f8cd-6de03fc1a3c6"
      },
      "source": [
        "print(idade)\n",
        "print(type(idade))\n",
        "\n",
        "idade_float = float(idade) # converte o valor da variável idade para float\n",
        "print(idade_float)\n",
        "print(type(idade_float))"
      ],
      "execution_count": null,
      "outputs": [
        {
          "output_type": "stream",
          "text": [
            "38\n",
            "<class 'int'>\n",
            "38.0\n",
            "<class 'float'>\n"
          ],
          "name": "stdout"
        }
      ]
    },
    {
      "cell_type": "code",
      "metadata": {
        "id": "1pOcidaUhEx9",
        "colab": {
          "base_uri": "https://localhost:8080/"
        },
        "outputId": "267f3561-72a7-4d2d-fa87-c57990a483f6"
      },
      "source": [
        "print(salario)"
      ],
      "execution_count": null,
      "outputs": [
        {
          "output_type": "stream",
          "text": [
            "752.89\n"
          ],
          "name": "stdout"
        }
      ]
    },
    {
      "cell_type": "code",
      "metadata": {
        "id": "LXUm-tAueidH",
        "colab": {
          "base_uri": "https://localhost:8080/"
        },
        "outputId": "26c6fed3-650a-4cb3-ccdf-6747b9fd98aa"
      },
      "source": [
        "salario_int = int(salario) # converte o valor da variável salario para int\n",
        "print(salario_int)"
      ],
      "execution_count": null,
      "outputs": [
        {
          "output_type": "stream",
          "text": [
            "752\n"
          ],
          "name": "stdout"
        }
      ]
    },
    {
      "cell_type": "code",
      "metadata": {
        "colab": {
          "base_uri": "https://localhost:8080/"
        },
        "id": "fXfKPj_skOMC",
        "outputId": "bab4ea8f-8998-4aa4-82d1-ae54fad8680d"
      },
      "source": [
        "print(0.1 + 0.2)"
      ],
      "execution_count": null,
      "outputs": [
        {
          "output_type": "stream",
          "text": [
            "0.30000000000000004\n"
          ],
          "name": "stdout"
        }
      ]
    },
    {
      "cell_type": "code",
      "metadata": {
        "colab": {
          "base_uri": "https://localhost:8080/"
        },
        "id": "rH7WpPsNlUy9",
        "outputId": "4ce6f9e1-9344-44ef-ab79-868ca2a2171f"
      },
      "source": [
        "round(0.1 + 0.2, 3) == 0.3"
      ],
      "execution_count": null,
      "outputs": [
        {
          "output_type": "execute_result",
          "data": {
            "text/plain": [
              "True"
            ]
          },
          "metadata": {
            "tags": []
          },
          "execution_count": 31
        }
      ]
    },
    {
      "cell_type": "markdown",
      "metadata": {
        "id": "K6iuk3lKiw-2"
      },
      "source": [
        "Além das conversões de tipos de dados, temos diversas **funções built-in** que nos permitem trabalhar com números. Vejamos alguns exemplos:"
      ]
    },
    {
      "cell_type": "code",
      "metadata": {
        "id": "oLKX_ln-ekDS",
        "colab": {
          "base_uri": "https://localhost:8080/"
        },
        "outputId": "8a48716c-ef45-4e70-97e4-64109e7b6d2c"
      },
      "source": [
        "salario_arredondado =  round(salario) # arredonda um número para uma dada quantidade de casas decimais (o padrão é zero casa decimal).\n",
        "print(salario_arredondado)"
      ],
      "execution_count": null,
      "outputs": [
        {
          "output_type": "stream",
          "text": [
            "753\n"
          ],
          "name": "stdout"
        }
      ]
    },
    {
      "cell_type": "code",
      "metadata": {
        "id": "iCKaNE2Bm4RW",
        "colab": {
          "base_uri": "https://localhost:8080/"
        },
        "outputId": "3428f877-b6f5-4f4c-efd2-2638dc13de7f"
      },
      "source": [
        "help(round) # mostra a documentação da função. Utilizado apenas para auxiliar na programação no software."
      ],
      "execution_count": null,
      "outputs": [
        {
          "output_type": "stream",
          "text": [
            "Help on built-in function round in module builtins:\n",
            "\n",
            "round(number, ndigits=None)\n",
            "    Round a number to a given precision in decimal digits.\n",
            "    \n",
            "    The return value is an integer if ndigits is omitted or None.  Otherwise\n",
            "    the return value has the same type as the number.  ndigits may be negative.\n",
            "\n"
          ],
          "name": "stdout"
        }
      ]
    },
    {
      "cell_type": "code",
      "metadata": {
        "id": "dwsO2Twxi_R2",
        "colab": {
          "base_uri": "https://localhost:8080/"
        },
        "outputId": "7c3efbc6-809d-4658-d03f-487a0506be8e"
      },
      "source": [
        "salario_arredondado =  round(salario, 1) # arredonda o número usando 1 casa decimal.\n",
        "print(salario_arredondado)"
      ],
      "execution_count": null,
      "outputs": [
        {
          "output_type": "stream",
          "text": [
            "752.9\n"
          ],
          "name": "stdout"
        }
      ]
    },
    {
      "cell_type": "code",
      "metadata": {
        "id": "eMYhb9FRmD4h",
        "colab": {
          "base_uri": "https://localhost:8080/"
        },
        "outputId": "ba91180c-ddb7-49e0-bbc0-c16c29b4ad79"
      },
      "source": [
        "valor_absoluto = abs(-10) # retorna o valor absoluto de um número.\n",
        "print(valor_absoluto)"
      ],
      "execution_count": null,
      "outputs": [
        {
          "output_type": "stream",
          "text": [
            "10\n"
          ],
          "name": "stdout"
        }
      ]
    },
    {
      "cell_type": "code",
      "metadata": {
        "id": "ED0pWTnynki3",
        "colab": {
          "base_uri": "https://localhost:8080/"
        },
        "outputId": "28e0f184-ac7c-4e57-84b8-511d7da4b99a"
      },
      "source": [
        "maior_valor = max(1, 7, 10, 3) # retorna o maior valor de uma coleção de números.\n",
        "print(maior_valor)"
      ],
      "execution_count": null,
      "outputs": [
        {
          "output_type": "stream",
          "text": [
            "10\n"
          ],
          "name": "stdout"
        }
      ]
    },
    {
      "cell_type": "code",
      "metadata": {
        "colab": {
          "base_uri": "https://localhost:8080/"
        },
        "id": "tXx485LvnADK",
        "outputId": "b2bffd70-b7ea-4985-81e0-a7bdada49c6f"
      },
      "source": [
        "menor_valor = min(34, 76, 12, 5, 40)\n",
        "print(menor_valor)"
      ],
      "execution_count": null,
      "outputs": [
        {
          "output_type": "stream",
          "text": [
            "5\n"
          ],
          "name": "stdout"
        }
      ]
    },
    {
      "cell_type": "code",
      "metadata": {
        "id": "kehsU2fjohfs",
        "colab": {
          "base_uri": "https://localhost:8080/"
        },
        "outputId": "9f0f8513-985b-478a-bdca-a60b78cc377d"
      },
      "source": [
        "quadrado = pow(10, 2) # retorna a potência (2) de um número (10).\n",
        "print(quadrado)"
      ],
      "execution_count": null,
      "outputs": [
        {
          "output_type": "stream",
          "text": [
            "100\n"
          ],
          "name": "stdout"
        }
      ]
    },
    {
      "cell_type": "code",
      "metadata": {
        "id": "ESH0IWsjmqdb",
        "colab": {
          "base_uri": "https://localhost:8080/"
        },
        "outputId": "caf677bd-2d64-4c9d-e0e8-ce6dd9056acb"
      },
      "source": [
        "binario = bin(9) # retorna o valor binário de um número inteiro.\n",
        "print(binario)\n",
        "type(binario);"
      ],
      "execution_count": null,
      "outputs": [
        {
          "output_type": "stream",
          "text": [
            "0b1001\n"
          ],
          "name": "stdout"
        }
      ]
    },
    {
      "cell_type": "code",
      "metadata": {
        "id": "CLXIqncsn0Np"
      },
      "source": [
        "# import matplotlib.pyplot as plt\n",
        "# dados = [1, 2, 3, 4, 5]\n",
        "# plt.plot(dados);"
      ],
      "execution_count": null,
      "outputs": []
    },
    {
      "cell_type": "markdown",
      "metadata": {
        "id": "226-k7wLsjdK"
      },
      "source": [
        "## 1.3. Comandos de Entrada e Saída\n",
        "Os comandos de entrada e saída permitem que possamos interagir com o programa, recebendo *feedback* dos resultados computados ou realizando a entrada de dados para o sistema. Ambos os comandos consistem em funções built-in, quais seja: `print()`, vista anteriormente, e `input('texto do prompt')` para entrada de dados. Vejamos um exemplo."
      ]
    },
    {
      "cell_type": "code",
      "metadata": {
        "colab": {
          "base_uri": "https://localhost:8080/",
          "height": 52
        },
        "id": "oSfM7M3DoqLl",
        "outputId": "a50ee7d6-de9a-4eda-e841-edba464a5b50"
      },
      "source": [
        "input()"
      ],
      "execution_count": null,
      "outputs": [
        {
          "output_type": "stream",
          "text": [
            "Henrique Dezani\n"
          ],
          "name": "stdout"
        },
        {
          "output_type": "execute_result",
          "data": {
            "application/vnd.google.colaboratory.intrinsic+json": {
              "type": "string"
            },
            "text/plain": [
              "'Henrique Dezani'"
            ]
          },
          "metadata": {
            "tags": []
          },
          "execution_count": 49
        }
      ]
    },
    {
      "cell_type": "code",
      "metadata": {
        "id": "qGm4cVJBsoXD",
        "colab": {
          "base_uri": "https://localhost:8080/"
        },
        "outputId": "985a79d8-a32c-4e6b-82a6-83cad127ca3c"
      },
      "source": [
        "nome = input('Digite o seu nome: ') # apresenta um elemento para entrada de dados com o label escrito como argumento.\n",
        "print('Olá, ' + nome)"
      ],
      "execution_count": null,
      "outputs": [
        {
          "output_type": "stream",
          "text": [
            "Digite o seu nome: Ana\n",
            "Olá, Ana\n"
          ],
          "name": "stdout"
        }
      ]
    },
    {
      "cell_type": "code",
      "metadata": {
        "id": "KTI4mQDdtNSa",
        "colab": {
          "base_uri": "https://localhost:8080/"
        },
        "outputId": "fa4aa95d-a654-4c53-bad5-4a3be8c14a12"
      },
      "source": [
        "type(nome) # toda entrada de dados obtida pela função built-in input() é uma string!"
      ],
      "execution_count": null,
      "outputs": [
        {
          "output_type": "execute_result",
          "data": {
            "text/plain": [
              "str"
            ]
          },
          "metadata": {
            "tags": []
          },
          "execution_count": 52
        }
      ]
    },
    {
      "cell_type": "markdown",
      "metadata": {
        "id": "2vnECMcqlvJA"
      },
      "source": [
        "Portanto, se quisermos obter um número (inteiro ou ponto flutuante) digitado por um usuário, devemos receber a string da função built-in `input()` e, em seguida, realizar as conversões necessárias, utilizando as funções built-in `int()` ou `float()`. Veja o exemplo a seguir:"
      ]
    },
    {
      "cell_type": "code",
      "metadata": {
        "id": "-P7TaDnEtiaj",
        "colab": {
          "base_uri": "https://localhost:8080/"
        },
        "outputId": "2ab83bcb-0843-4579-c3ee-f99b0f701475"
      },
      "source": [
        "# idade_str = input('Qual a sua idade? ')\n",
        "# idade_int = int(idade_str)\n",
        "# print(idade_str)\n",
        "# print(idade_int)\n",
        "\n",
        "idade = int(input('Qual a sua idade? '))"
      ],
      "execution_count": null,
      "outputs": [
        {
          "output_type": "stream",
          "text": [
            "Qual a sua idade? 40\n",
            "40\n",
            "40\n"
          ],
          "name": "stdout"
        }
      ]
    },
    {
      "cell_type": "code",
      "metadata": {
        "id": "EA06xY15SCaa",
        "colab": {
          "base_uri": "https://localhost:8080/"
        },
        "outputId": "f2f656eb-a070-47aa-d1e3-54069b316793"
      },
      "source": [
        "type(idade_str)"
      ],
      "execution_count": null,
      "outputs": [
        {
          "output_type": "execute_result",
          "data": {
            "text/plain": [
              "str"
            ]
          },
          "metadata": {
            "tags": []
          },
          "execution_count": 54
        }
      ]
    },
    {
      "cell_type": "code",
      "metadata": {
        "id": "pvin7a3YSD8u",
        "colab": {
          "base_uri": "https://localhost:8080/"
        },
        "outputId": "62172216-7345-4a00-b5b5-3643153b1314"
      },
      "source": [
        "type(idade_int)"
      ],
      "execution_count": null,
      "outputs": [
        {
          "output_type": "execute_result",
          "data": {
            "text/plain": [
              "int"
            ]
          },
          "metadata": {
            "tags": []
          },
          "execution_count": 55
        }
      ]
    },
    {
      "cell_type": "markdown",
      "metadata": {
        "id": "Jc4X63WOLLFQ"
      },
      "source": [
        "**Para pensar**: E se o valor informado pelo usuário não for um número inteiro? Ou seja, e se o usuário digitou a letra a? Neste caso, uma exceção (erro) será disparada. Em aulas futuras estudaremos como tratar as exceções."
      ]
    },
    {
      "cell_type": "code",
      "metadata": {
        "colab": {
          "base_uri": "https://localhost:8080/",
          "height": 216
        },
        "id": "wrSIhEfeptC8",
        "outputId": "12f27591-2c1b-438b-d241-68270db1699d"
      },
      "source": [
        "numero = input('Digite um número: ')\n",
        "numero = int(numero)\n",
        "print(numero + 1)"
      ],
      "execution_count": null,
      "outputs": [
        {
          "output_type": "stream",
          "text": [
            "Digite um número: a\n"
          ],
          "name": "stdout"
        },
        {
          "output_type": "error",
          "ename": "ValueError",
          "evalue": "ignored",
          "traceback": [
            "\u001b[0;31m---------------------------------------------------------------------------\u001b[0m",
            "\u001b[0;31mValueError\u001b[0m                                Traceback (most recent call last)",
            "\u001b[0;32m<ipython-input-57-48b583df5543>\u001b[0m in \u001b[0;36m<module>\u001b[0;34m()\u001b[0m\n\u001b[1;32m      1\u001b[0m \u001b[0mnumero\u001b[0m \u001b[0;34m=\u001b[0m \u001b[0minput\u001b[0m\u001b[0;34m(\u001b[0m\u001b[0;34m'Digite um número: '\u001b[0m\u001b[0;34m)\u001b[0m\u001b[0;34m\u001b[0m\u001b[0;34m\u001b[0m\u001b[0m\n\u001b[0;32m----> 2\u001b[0;31m \u001b[0mnumero\u001b[0m \u001b[0;34m=\u001b[0m \u001b[0mint\u001b[0m\u001b[0;34m(\u001b[0m\u001b[0mnumero\u001b[0m\u001b[0;34m)\u001b[0m\u001b[0;34m\u001b[0m\u001b[0;34m\u001b[0m\u001b[0m\n\u001b[0m\u001b[1;32m      3\u001b[0m \u001b[0mprint\u001b[0m\u001b[0;34m(\u001b[0m\u001b[0mnumero\u001b[0m \u001b[0;34m+\u001b[0m \u001b[0;36m1\u001b[0m\u001b[0;34m)\u001b[0m\u001b[0;34m\u001b[0m\u001b[0;34m\u001b[0m\u001b[0m\n",
            "\u001b[0;31mValueError\u001b[0m: invalid literal for int() with base 10: 'a'"
          ]
        }
      ]
    },
    {
      "cell_type": "markdown",
      "metadata": {
        "id": "hWwDstTYmvxR"
      },
      "source": [
        "**Exerício 3**: Refaça o Exercício 1 de maneira que os dados sejam informados pelo usuário."
      ]
    },
    {
      "cell_type": "code",
      "metadata": {
        "id": "ete56QllmxX9"
      },
      "source": [
        "# digite seu código aqui.\n"
      ],
      "execution_count": null,
      "outputs": []
    },
    {
      "cell_type": "markdown",
      "metadata": {
        "id": "cbrEPthNDR63"
      },
      "source": [
        "##1.4 Operações Aritméticas\n",
        "Para realizar as operações aritméticas, utilizamos os símbolos + (soma), - (subtração), * (multiplicação) e / (divisão).\n",
        "É importante lembrar que temos a precedência das operações () /* +-"
      ]
    },
    {
      "cell_type": "code",
      "metadata": {
        "id": "LlwZtZtiDdyY",
        "colab": {
          "base_uri": "https://localhost:8080/"
        },
        "outputId": "ccd0451f-c24c-4405-e72c-a6b7b254bc80"
      },
      "source": [
        "numero1 = int(input('Digite o primeiro número'))\n",
        "numero2 = int(input('Digite o segundo número'))\n",
        "\n",
        "soma = numero1 + numero2\n",
        "print(soma)\n",
        "\n",
        "subtracao = numero1 - numero2\n",
        "print(subtracao)\n",
        "\n",
        "multiplicacao = numero1 * numero2\n",
        "print(multiplicacao)\n",
        "\n",
        "divisao = numero1 / numero2\n",
        "print(divisao)\n",
        "\n",
        "divisao_inteira = numero1 // numero2\n",
        "print(divisao_inteira)\n",
        "\n",
        "modulo = numero1 % numero2\n",
        "print(modulo)               # 0 número par, 1 número ímpar\n",
        "\n",
        "potencia = numero1 ** numero2\n",
        "print(potencia)"
      ],
      "execution_count": null,
      "outputs": [
        {
          "output_type": "stream",
          "text": [
            "Digite o primeiro número7\n",
            "Digite o segundo número2\n",
            "9\n",
            "5\n",
            "14\n",
            "3.5\n",
            "3\n",
            "1\n",
            "49\n"
          ],
          "name": "stdout"
        }
      ]
    },
    {
      "cell_type": "markdown",
      "metadata": {
        "id": "_Vh7l_21Kgpc"
      },
      "source": [
        "## 1.5. O Poder do Print (versão 3.6)"
      ]
    },
    {
      "cell_type": "code",
      "metadata": {
        "id": "vnjCzuuhOZIo",
        "colab": {
          "base_uri": "https://localhost:8080/"
        },
        "outputId": "b9023d44-a76e-4586-d14b-a83bc3a61c29"
      },
      "source": [
        "print('Olá')"
      ],
      "execution_count": null,
      "outputs": [
        {
          "output_type": "stream",
          "text": [
            "Olá\n"
          ],
          "name": "stdout"
        }
      ]
    },
    {
      "cell_type": "code",
      "metadata": {
        "id": "Ubtp1USAQXHT",
        "colab": {
          "base_uri": "https://localhost:8080/"
        },
        "outputId": "0b844d9d-918b-4821-ba7f-b3bdbafaaab2"
      },
      "source": [
        "nome = \"Henrique\"\n",
        "sobrenome = 'Dezani'\n",
        "\n",
        "print(\"Olá, \" + nome + \" \" + sobrenome) # concatenação"
      ],
      "execution_count": null,
      "outputs": [
        {
          "output_type": "stream",
          "text": [
            "Olá, Henrique Dezani\n"
          ],
          "name": "stdout"
        }
      ]
    },
    {
      "cell_type": "code",
      "metadata": {
        "id": "AyJ7-mfKQZUr",
        "colab": {
          "base_uri": "https://localhost:8080/"
        },
        "outputId": "e0170847-745d-49d3-afcd-af76f532762c"
      },
      "source": [
        "print(\"Olá, \" + nome + \" \" + sobrenome + \", tudo bem?\") # concatenação"
      ],
      "execution_count": null,
      "outputs": [
        {
          "output_type": "stream",
          "text": [
            "Olá, Henrique Dezani, tudo bem?\n"
          ],
          "name": "stdout"
        }
      ]
    },
    {
      "cell_type": "code",
      "metadata": {
        "colab": {
          "base_uri": "https://localhost:8080/"
        },
        "id": "VRyrb8-lsgvN",
        "outputId": "8b18deef-35c7-4576-d64c-d74251a0a788"
      },
      "source": [
        "print(nome, sobrenome)"
      ],
      "execution_count": null,
      "outputs": [
        {
          "output_type": "stream",
          "text": [
            "Henrique Dezani\n"
          ],
          "name": "stdout"
        }
      ]
    },
    {
      "cell_type": "code",
      "metadata": {
        "id": "wMZGFVYOQbcM",
        "colab": {
          "base_uri": "https://localhost:8080/"
        },
        "outputId": "2ab3f2b8-6378-4542-f3f1-63b9205dbae9"
      },
      "source": [
        "print(\"Olá, \", nome, ' ',sobrenome, \", tudo bem?\", sep='') # concatenação"
      ],
      "execution_count": null,
      "outputs": [
        {
          "output_type": "stream",
          "text": [
            "Olá, Henrique Dezani, tudo bem?\n"
          ],
          "name": "stdout"
        }
      ]
    },
    {
      "cell_type": "code",
      "metadata": {
        "id": "txCpwLWvQd0e",
        "colab": {
          "base_uri": "https://localhost:8080/"
        },
        "outputId": "628e3c0d-aff9-407d-e1f5-5987e9b911f0"
      },
      "source": [
        "print(\"Olá, {}, tudo bem?\".format(nome)) #interpolação"
      ],
      "execution_count": null,
      "outputs": [
        {
          "output_type": "stream",
          "text": [
            "Olá, Henrique, tudo bem?\n"
          ],
          "name": "stdout"
        }
      ]
    },
    {
      "cell_type": "code",
      "metadata": {
        "id": "PxdqOu6RQgKy",
        "colab": {
          "base_uri": "https://localhost:8080/"
        },
        "outputId": "ab9a7a0e-495f-4766-9d72-5d0672ba17f7"
      },
      "source": [
        "print(\"Olá, {} {} {}, tudo bem?\".format(nome, sobrenome, nome)) #interpolação de duas variáveis"
      ],
      "execution_count": null,
      "outputs": [
        {
          "output_type": "stream",
          "text": [
            "Olá, Henrique Dezani Henrique, tudo bem?\n"
          ],
          "name": "stdout"
        }
      ]
    },
    {
      "cell_type": "code",
      "metadata": {
        "id": "-jhXLmksQjc0",
        "colab": {
          "base_uri": "https://localhost:8080/"
        },
        "outputId": "91c5702f-7cd3-4a31-91be-19d04980bf35"
      },
      "source": [
        "print(\"Olá, {0} {1} {0}, tudo bem?\".format(nome, sobrenome)) # interpolação, passando os índices"
      ],
      "execution_count": null,
      "outputs": [
        {
          "output_type": "stream",
          "text": [
            "Olá, Henrique Dezani Henrique, tudo bem?\n"
          ],
          "name": "stdout"
        }
      ]
    },
    {
      "cell_type": "code",
      "metadata": {
        "colab": {
          "base_uri": "https://localhost:8080/"
        },
        "id": "zPA1V1rBtA8U",
        "outputId": "260f4859-f678-4488-fa5a-181fe59fbeba"
      },
      "source": [
        "print(f'Olá, {nome} {sobrenome}, tudo bem?')"
      ],
      "execution_count": null,
      "outputs": [
        {
          "output_type": "stream",
          "text": [
            "Olá, Henrique Dezani, tudo bem?\n"
          ],
          "name": "stdout"
        }
      ]
    },
    {
      "cell_type": "code",
      "metadata": {
        "colab": {
          "base_uri": "https://localhost:8080/"
        },
        "id": "zlNAA7yYtf-r",
        "outputId": "1b085af2-6ad6-4800-ea92-fe08240c3e14"
      },
      "source": [
        "print('Hello', end=' ')\n",
        "print('World')"
      ],
      "execution_count": null,
      "outputs": [
        {
          "output_type": "stream",
          "text": [
            "Hello World\n"
          ],
          "name": "stdout"
        }
      ]
    },
    {
      "cell_type": "code",
      "metadata": {
        "id": "6-5o5LBNQvHq",
        "colab": {
          "base_uri": "https://localhost:8080/"
        },
        "outputId": "a471e00f-b1d0-42f7-912c-fe51bdf384e1"
      },
      "source": [
        "print(\"Olá\", end=' ') # define o caracter final (padrão '\\n')\n",
        "print(\"Mundo\")\n",
        "print(\"Novo\")"
      ],
      "execution_count": null,
      "outputs": [
        {
          "output_type": "stream",
          "text": [
            "Olá Mundo\n",
            "Novo\n"
          ],
          "name": "stdout"
        }
      ]
    },
    {
      "cell_type": "code",
      "metadata": {
        "id": "bhYKCTL1t5gj",
        "colab": {
          "base_uri": "https://localhost:8080/"
        },
        "outputId": "a569cb67-a8ba-4ad3-a579-63a104814b12"
      },
      "source": [
        "numero_float = 3.2353523\n",
        "print(\"{0:.2f}\".format(numero_float)) # formata a saída float com 2 casas decimais."
      ],
      "execution_count": null,
      "outputs": [
        {
          "output_type": "stream",
          "text": [
            "3.24\n"
          ],
          "name": "stdout"
        }
      ]
    },
    {
      "cell_type": "code",
      "metadata": {
        "colab": {
          "base_uri": "https://localhost:8080/"
        },
        "id": "buYVISGnt5Sq",
        "outputId": "0f159b1c-20f1-4a69-c816-754523375e5b"
      },
      "source": [
        "print(f\"{salario:.1f}\")"
      ],
      "execution_count": null,
      "outputs": [
        {
          "output_type": "stream",
          "text": [
            "752.9\n"
          ],
          "name": "stdout"
        }
      ]
    },
    {
      "cell_type": "markdown",
      "metadata": {
        "id": "Qp2PD3gjK3zK"
      },
      "source": [
        "## 1.6. Exercícios"
      ]
    },
    {
      "cell_type": "markdown",
      "metadata": {
        "id": "1sFYLEw9LExi"
      },
      "source": [
        "### 1.6.1. Exercício 1: Implemente um programa que leia um número inteiro e mostre seu sucessor e seu antecessor."
      ]
    },
    {
      "cell_type": "code",
      "metadata": {
        "id": "7qa78cl6F_DT"
      },
      "source": [
        ""
      ],
      "execution_count": null,
      "outputs": []
    },
    {
      "cell_type": "markdown",
      "metadata": {
        "id": "YGNNJ49PLQrd"
      },
      "source": [
        "### 1.6.2. Exercício 2: Implemente um programa que leia um número inteiro e mostre seu dobro e seu triplo.\n",
        "\n"
      ]
    },
    {
      "cell_type": "code",
      "metadata": {
        "id": "JWHIiEEPLf_5"
      },
      "source": [
        ""
      ],
      "execution_count": null,
      "outputs": []
    },
    {
      "cell_type": "markdown",
      "metadata": {
        "id": "swyaOI96LgsH"
      },
      "source": [
        "### 1.6.3. Exercício 3: Implemente um programa que leia 4 notas de um aluno e mostre a média aritmética."
      ]
    },
    {
      "cell_type": "code",
      "metadata": {
        "id": "aq0J1MB3LtNA"
      },
      "source": [
        ""
      ],
      "execution_count": null,
      "outputs": []
    },
    {
      "cell_type": "markdown",
      "metadata": {
        "id": "DsgRMCZ7L7wC"
      },
      "source": [
        "### 1.6.4. Exercício 4: Implemente um programa que leia um valor em metros e mostre seu valor em centímetros e em milímetros."
      ]
    },
    {
      "cell_type": "code",
      "metadata": {
        "id": "4u3M2Y2TMGMM"
      },
      "source": [
        ""
      ],
      "execution_count": null,
      "outputs": []
    },
    {
      "cell_type": "markdown",
      "metadata": {
        "id": "hxmxjdvFMG2Y"
      },
      "source": [
        "### 1.6.5. Exercício 5: Implemente um programa que tenha como entrada o valor em uma reais e mostre o valor correspondente em dólar."
      ]
    },
    {
      "cell_type": "code",
      "metadata": {
        "id": "FrU_D4X-MjHF"
      },
      "source": [
        ""
      ],
      "execution_count": null,
      "outputs": []
    },
    {
      "cell_type": "markdown",
      "metadata": {
        "id": "Dqns4l5kMmJy"
      },
      "source": [
        "### 1.6.6. Exercício 6: Supondo que queremos pintar o muro da instituição, faça um programa que leia a altura e a largura do muro e mostre a quantidade de tinta necessária (1 litro de tinta pode pintar uma área de 2 metros quadrados)."
      ]
    },
    {
      "cell_type": "code",
      "metadata": {
        "id": "uAcOlRc_NSzQ"
      },
      "source": [
        ""
      ],
      "execution_count": null,
      "outputs": []
    },
    {
      "cell_type": "markdown",
      "metadata": {
        "id": "I7XP4jAmNkAl"
      },
      "source": [
        "### 1.6.7. Exercício 7: Faça um programa que leia o preço de um produto e mostre o valor com 5% de desconto."
      ]
    },
    {
      "cell_type": "code",
      "metadata": {
        "id": "kORS1l_-N0Yw"
      },
      "source": [
        ""
      ],
      "execution_count": null,
      "outputs": []
    }
  ]
}